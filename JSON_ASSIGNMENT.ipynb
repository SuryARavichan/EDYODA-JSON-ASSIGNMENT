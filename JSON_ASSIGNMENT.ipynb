{
  "nbformat": 4,
  "nbformat_minor": 0,
  "metadata": {
    "colab": {
      "provenance": [],
      "authorship_tag": "ABX9TyPLn/TwUquWlow59g0S/1t5",
      "include_colab_link": true
    },
    "kernelspec": {
      "name": "python3",
      "display_name": "Python 3"
    },
    "language_info": {
      "name": "python"
    }
  },
  "cells": [
    {
      "cell_type": "markdown",
      "metadata": {
        "id": "view-in-github",
        "colab_type": "text"
      },
      "source": [
        "<a href=\"https://colab.research.google.com/github/SuryARavichan/EDYODA-JSON-ASSIGNMENT/blob/main/JSON_ASSIGNMENT.ipynb\" target=\"_parent\"><img src=\"https://colab.research.google.com/assets/colab-badge.svg\" alt=\"Open In Colab\"/></a>"
      ]
    },
    {
      "cell_type": "markdown",
      "source": [
        "Assignment 1\n",
        "\n",
        "👉 1. Create a JSON file (employee.json) containing employee information of minimum 5 employees. Each employee information consists of Name, DOB, Height, City, State. Write a python program that reads this information from the JSON file and saves the information into a list of objects of Employee class. Finally print the list of the Employee objects."
      ],
      "metadata": {
        "id": "4jDd6IrNynKM"
      }
    },
    {
      "cell_type": "code",
      "source": [
        "{\n",
        "    \"employees\": [\n",
        "        {\n",
        "            \"name\": \"John Smith\",\n",
        "            \"DOB\": \"01/01/1980\",\n",
        "            \"height\": \"6ft\",\n",
        "            \"city\": \"New York\",\n",
        "            \"state\": \"NY\"\n",
        "        },\n",
        "        {\n",
        "            \"name\": \"Jane Doe\",\n",
        "            \"DOB\": \"02/01/1985\",\n",
        "            \"height\": \"5ft 7in\",\n",
        "            \"city\": \"Los Angeles\",\n",
        "            \"state\": \"CA\"\n",
        "        },\n",
        "        {\n",
        "            \"name\": \"Bob Johnson\",\n",
        "            \"DOB\": \"03/01/1990\",\n",
        "            \"height\": \"6ft 2in\",\n",
        "            \"city\": \"Chicago\",\n",
        "            \"state\": \"IL\"\n",
        "        },\n",
        "        {\n",
        "            \"name\": \"Samantha Williams\",\n",
        "            \"DOB\": \"04/01/1995\",\n",
        "            \"height\": \"5ft 5in\",\n",
        "            \"city\": \"Houston\",\n",
        "            \"state\": \"TX\"\n",
        "        },\n",
        "        {\n",
        "            \"name\": \"David Brown\",\n",
        "            \"DOB\": \"05/01/2000\",\n",
        "            \"height\": \"6ft 1in\",\n",
        "            \"city\": \"Phoenix\",\n",
        "            \"state\": \"AZ\"\n",
        "        }\n",
        "    ]\n",
        "}\n"
      ],
      "metadata": {
        "colab": {
          "base_uri": "https://localhost:8080/"
        },
        "id": "6-K8pACnyn7C",
        "outputId": "6113bd59-9a3d-4058-a320-07a9bbc2e1f9"
      },
      "execution_count": 1,
      "outputs": [
        {
          "output_type": "execute_result",
          "data": {
            "text/plain": [
              "{'employees': [{'name': 'John Smith',\n",
              "   'DOB': '01/01/1980',\n",
              "   'height': '6ft',\n",
              "   'city': 'New York',\n",
              "   'state': 'NY'},\n",
              "  {'name': 'Jane Doe',\n",
              "   'DOB': '02/01/1985',\n",
              "   'height': '5ft 7in',\n",
              "   'city': 'Los Angeles',\n",
              "   'state': 'CA'},\n",
              "  {'name': 'Bob Johnson',\n",
              "   'DOB': '03/01/1990',\n",
              "   'height': '6ft 2in',\n",
              "   'city': 'Chicago',\n",
              "   'state': 'IL'},\n",
              "  {'name': 'Samantha Williams',\n",
              "   'DOB': '04/01/1995',\n",
              "   'height': '5ft 5in',\n",
              "   'city': 'Houston',\n",
              "   'state': 'TX'},\n",
              "  {'name': 'David Brown',\n",
              "   'DOB': '05/01/2000',\n",
              "   'height': '6ft 1in',\n",
              "   'city': 'Phoenix',\n",
              "   'state': 'AZ'}]}"
            ]
          },
          "metadata": {},
          "execution_count": 1
        }
      ]
    },
    {
      "cell_type": "code",
      "source": [
        "import json\n",
        "\n",
        "class Employee:\n",
        "    def __init__(self, name, dob, height, city, state):\n",
        "        self.name = name\n",
        "        self.dob = dob\n",
        "        self.height = height\n",
        "        self.city = city\n",
        "        self.state = state\n",
        "\n",
        "with open('employees.json') as file:\n",
        "    data = json.load(file)\n",
        "    employees = []\n",
        "    for employee in data[\"employees\"]:\n",
        "        name = employee[\"name\"]\n",
        "        dob = employee[\"DOB\"]\n",
        "        height = employee[\"height\"]\n",
        "        city = employee[\"city\"]\n",
        "        state = employee[\"state\"]\n",
        "        employees.append(Employee(name, dob, height, city, state))\n",
        "\n",
        "for employee in employees:\n",
        "    print(employee.__dict__)\n"
      ],
      "metadata": {
        "id": "iEW2CyJHzE4_"
      },
      "execution_count": null,
      "outputs": []
    },
    {
      "cell_type": "markdown",
      "source": [
        "👉 2. Create a dictionary of any 7 Indian states and their capitals. Write this into a JSON file."
      ],
      "metadata": {
        "id": "MffJ5XxJzIn9"
      }
    },
    {
      "cell_type": "code",
      "source": [
        "import json\n",
        "\n",
        "indian_states = {\n",
        "    \"Andhra Pradesh\": \"Amaravati\",\n",
        "    \"Arunachal Pradesh\": \"Itanagar\",\n",
        "    \"Assam\": \"Dispur\",\n",
        "    \"Bihar\": \"Patna\",\n",
        "    \"Chhattisgarh\": \"Raipur\",\n",
        "    \"Goa\": \"Panaji\",\n",
        "    \"Gujarat\": \"Gandhinagar\"\n",
        "}\n",
        "\n",
        "with open(\"indian_states.json\", \"w\") as file:\n",
        "    json.dump(indian_states, file)\n"
      ],
      "metadata": {
        "id": "ARVFoXtNzL6I"
      },
      "execution_count": 2,
      "outputs": []
    },
    {
      "cell_type": "code",
      "source": [
        "{\n",
        "    \"Andhra Pradesh\": \"Amaravati\",\n",
        "    \"Arunachal Pradesh\": \"Itanagar\",\n",
        "    \"Assam\": \"Dispur\",\n",
        "    \"Bihar\": \"Patna\",\n",
        "    \"Chhattisgarh\": \"Raipur\",\n",
        "    \"Goa\": \"Panaji\",\n",
        "    \"Gujarat\": \"Gandhinagar\"\n",
        "}\n"
      ],
      "metadata": {
        "colab": {
          "base_uri": "https://localhost:8080/"
        },
        "id": "y9mGmxzEzOeB",
        "outputId": "bd640872-7a38-42cf-d1f0-0fb51d83a122"
      },
      "execution_count": 3,
      "outputs": [
        {
          "output_type": "execute_result",
          "data": {
            "text/plain": [
              "{'Andhra Pradesh': 'Amaravati',\n",
              " 'Arunachal Pradesh': 'Itanagar',\n",
              " 'Assam': 'Dispur',\n",
              " 'Bihar': 'Patna',\n",
              " 'Chhattisgarh': 'Raipur',\n",
              " 'Goa': 'Panaji',\n",
              " 'Gujarat': 'Gandhinagar'}"
            ]
          },
          "metadata": {},
          "execution_count": 3
        }
      ]
    },
    {
      "cell_type": "markdown",
      "source": [
        "👉 1. Create a class named ‘Dog’. It should have a constructor which accepts its name, age and coat color. You must perform the following operations:\n",
        "\n",
        "🔴 a. It should have a function ‘description()’ which prints the name and age of the dog.\n",
        "🔴 b. It should have a function ‘get_info()’ which prints the coat color of the dog.\n",
        "🔴 c. Create child classes ‘JackRussellTerrier’ and ‘Bulldog’ which is inherited from the class ‘Dog’. It should have at least two methods of its own.\n",
        "🔴 d. Create objects and implement the above functionalities."
      ],
      "metadata": {
        "id": "f5-xGBVnzRKO"
      }
    },
    {
      "cell_type": "code",
      "source": [
        "class Dog:\n",
        "    def __init__(self, name, age, coat_color):\n",
        "        self.name = name\n",
        "        self.age = age\n",
        "        self.coat_color = coat_color\n",
        "\n",
        "dog1 = Dog(\"Fido\", 3, \"brown\")\n",
        "dog2 = Dog(\"Buddy\", 5, \"black\")\n",
        "\n",
        "print(dog1.name) # Output: Fido\n",
        "print(dog2.age) # Output: 5\n",
        "print(dog1.coat_color) # Output: brown\n"
      ],
      "metadata": {
        "colab": {
          "base_uri": "https://localhost:8080/"
        },
        "id": "UQ6-BU-izTZG",
        "outputId": "b91d233f-d88e-41e3-ab7f-a1531624a044"
      },
      "execution_count": 4,
      "outputs": [
        {
          "output_type": "stream",
          "name": "stdout",
          "text": [
            "Fido\n",
            "5\n",
            "brown\n"
          ]
        }
      ]
    },
    {
      "cell_type": "code",
      "source": [
        "class Dog:\n",
        "    def __init__(self, name, age, coat_color):\n",
        "        self.name = name\n",
        "        self.age = age\n",
        "        self.coat_color = coat_color\n",
        "\n",
        "    def description(self):\n",
        "        print(f\"{self.name} is {self.age} years old.\")\n",
        "\n",
        "    def get_info(self):\n",
        "        print(f\"Coat color: {self.coat_color}\")\n",
        "\n",
        "class JackRussellTerrier(Dog):\n",
        "    def __init__(self, name, age, coat_color):\n",
        "        super().__init__(name, age, coat_color)\n",
        "\n",
        "    def bark(self):\n",
        "        print(\"Woof woof!\")\n",
        "\n",
        "    def energy_level(self):\n",
        "        print(\"High energy level\")\n",
        "\n",
        "class Bulldog(Dog):\n",
        "    def __init__(self, name, age, coat_color):\n",
        "        super().__init__(name, age, coat_color)\n",
        "\n",
        "    def bark(self):\n",
        "        print(\"Grrrrrr!\")\n",
        "\n",
        "    def lazy(self):\n",
        "        print(\"Lazy\")\n",
        "\n",
        "dog1 = Dog(\"Fido\", 3, \"brown\")\n",
        "dog1.description() # Output: Fido is 3 years old.\n",
        "dog1.get_info() # Output: Coat color: brown\n",
        "\n",
        "dog2 = JackRussellTerrier(\"Buddy\", 5, \"black\")\n",
        "dog2.description() # Output: Buddy is 5 years old.\n",
        "dog2.get_info() # Output: Coat color: black\n",
        "dog2.bark() # Output: Woof woof!\n",
        "dog2.energy_level() # Output: High energy level\n",
        "\n",
        "dog3 = Bulldog(\"Max\", 7, \"white\")\n",
        "dog3.description() # Output: Max is 7 years old.\n",
        "dog3.get_info() # Output: Coat color: white\n",
        "dog3.bark() # Output: Grrrrrr!\n",
        "dog3.lazy() # Output: Lazy\n"
      ],
      "metadata": {
        "colab": {
          "base_uri": "https://localhost:8080/"
        },
        "id": "o1K-13dlzWcl",
        "outputId": "82c395b1-f098-4b23-ac50-174ee2d9de9f"
      },
      "execution_count": 5,
      "outputs": [
        {
          "output_type": "stream",
          "name": "stdout",
          "text": [
            "Fido is 3 years old.\n",
            "Coat color: brown\n",
            "Buddy is 5 years old.\n",
            "Coat color: black\n",
            "Woof woof!\n",
            "High energy level\n",
            "Max is 7 years old.\n",
            "Coat color: white\n",
            "Grrrrrr!\n",
            "Lazy\n"
          ]
        }
      ]
    }
  ]
}