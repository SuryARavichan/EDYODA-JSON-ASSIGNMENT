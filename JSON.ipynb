{
  "nbformat": 4,
  "nbformat_minor": 0,
  "metadata": {
    "colab": {
      "provenance": [],
      "authorship_tag": "ABX9TyPBwSU7XY+VJz98gXxi4xFV",
      "include_colab_link": true
    },
    "kernelspec": {
      "name": "python3",
      "display_name": "Python 3"
    },
    "language_info": {
      "name": "python"
    }
  },
  "cells": [
    {
      "cell_type": "markdown",
      "metadata": {
        "id": "view-in-github",
        "colab_type": "text"
      },
      "source": [
        "<a href=\"https://colab.research.google.com/github/SuryARavichan/EDYODA-JSON-ASSIGNMENT/blob/main/JSON.ipynb\" target=\"_parent\"><img src=\"https://colab.research.google.com/assets/colab-badge.svg\" alt=\"Open In Colab\"/></a>"
      ]
    },
    {
      "cell_type": "markdown",
      "source": [
        "1. Create a JSON file (employee.json) containing employee information of minimum 5 employees. Each employee information consists of Name, DOB, Height, City, State. Write a python program that reads this information from the JSON file and saves the information into a list of objects of Employee class. Finally print the list of the Employee objects."
      ],
      "metadata": {
        "id": "Whr0iXqq1lRQ"
      }
    },
    {
      "cell_type": "code",
      "source": [
        "{\n",
        "    \"employees\": [\n",
        "        {\n",
        "            \"name\": \"John Smith\",\n",
        "            \"DOB\": \"01/01/1980\",\n",
        "            \"height\": \"6ft\",\n",
        "            \"city\": \"New York\",\n",
        "            \"state\": \"NY\"\n",
        "        },\n",
        "        {\n",
        "            \"name\": \"Jane Doe\",\n",
        "            \"DOB\": \"02/01/1985\",\n",
        "            \"height\": \"5ft 7in\",\n",
        "            \"city\": \"Los Angeles\",\n",
        "            \"state\": \"CA\"\n",
        "        },\n",
        "        {\n",
        "            \"name\": \"Bob Johnson\",\n",
        "            \"DOB\": \"03/01/1990\",\n",
        "            \"height\": \"6ft 2in\",\n",
        "            \"city\": \"Chicago\",\n",
        "            \"state\": \"IL\"\n",
        "        },\n",
        "        {\n",
        "            \"name\": \"Samantha Williams\",\n",
        "            \"DOB\": \"04/01/1995\",\n",
        "            \"height\": \"5ft 5in\",\n",
        "            \"city\": \"Houston\",\n",
        "            \"state\": \"TX\"\n",
        "        },\n",
        "        {\n",
        "            \"name\": \"David Brown\",\n",
        "            \"DOB\": \"05/01/2000\",\n",
        "            \"height\": \"6ft 1in\",\n",
        "            \"city\": \"Phoenix\",\n",
        "            \"state\": \"AZ\"\n",
        "        }\n",
        "    ]\n",
        "}\n"
      ],
      "metadata": {
        "colab": {
          "base_uri": "https://localhost:8080/"
        },
        "id": "P9lL49jS1n5W",
        "outputId": "8306e80a-832f-4f6a-9fc5-2fa3c3bed43a"
      },
      "execution_count": 11,
      "outputs": [
        {
          "output_type": "execute_result",
          "data": {
            "text/plain": [
              "{'employees': [{'name': 'John Smith',\n",
              "   'DOB': '01/01/1980',\n",
              "   'height': '6ft',\n",
              "   'city': 'New York',\n",
              "   'state': 'NY'},\n",
              "  {'name': 'Jane Doe',\n",
              "   'DOB': '02/01/1985',\n",
              "   'height': '5ft 7in',\n",
              "   'city': 'Los Angeles',\n",
              "   'state': 'CA'},\n",
              "  {'name': 'Bob Johnson',\n",
              "   'DOB': '03/01/1990',\n",
              "   'height': '6ft 2in',\n",
              "   'city': 'Chicago',\n",
              "   'state': 'IL'},\n",
              "  {'name': 'Samantha Williams',\n",
              "   'DOB': '04/01/1995',\n",
              "   'height': '5ft 5in',\n",
              "   'city': 'Houston',\n",
              "   'state': 'TX'},\n",
              "  {'name': 'David Brown',\n",
              "   'DOB': '05/01/2000',\n",
              "   'height': '6ft 1in',\n",
              "   'city': 'Phoenix',\n",
              "   'state': 'AZ'}]}"
            ]
          },
          "metadata": {},
          "execution_count": 11
        }
      ]
    },
    {
      "cell_type": "code",
      "source": [
        "import json\n",
        "\n",
        "class Employee:\n",
        "    def __init__(self, name, dob, height, city, state):\n",
        "        self.name = name\n",
        "        self.dob = dob\n",
        "        self.height = height\n",
        "        self.city = city\n",
        "        self.state = state\n",
        "\n",
        "with open('employees.json') as file:\n",
        "    data = json.load(file)\n",
        "    employees = []\n",
        "    for employee in data[\"employees\"]:\n",
        "        name = employee[\"name\"]\n",
        "        dob = employee[\"DOB\"]\n",
        "        height = employee[\"height\"]\n",
        "        city = employee[\"city\"]\n",
        "        state = employee[\"state\"]\n",
        "        employees.append(Employee(name, dob, height, city, state))\n",
        "\n",
        "for employee in employees:\n",
        "    print(employee.__dict__)\n"
      ],
      "metadata": {
        "colab": {
          "base_uri": "https://localhost:8080/",
          "height": 231
        },
        "id": "NXeKrwlc1qC3",
        "outputId": "747cc6c3-5580-44bf-a87f-7d5e00e07ae9"
      },
      "execution_count": 14,
      "outputs": [
        {
          "output_type": "error",
          "ename": "FileNotFoundError",
          "evalue": "ignored",
          "traceback": [
            "\u001b[0;31m---------------------------------------------------------------------------\u001b[0m",
            "\u001b[0;31mFileNotFoundError\u001b[0m                         Traceback (most recent call last)",
            "\u001b[0;32m<ipython-input-14-cbeac40872a3>\u001b[0m in \u001b[0;36m<module>\u001b[0;34m\u001b[0m\n\u001b[1;32m      9\u001b[0m         \u001b[0mself\u001b[0m\u001b[0;34m.\u001b[0m\u001b[0mstate\u001b[0m \u001b[0;34m=\u001b[0m \u001b[0mstate\u001b[0m\u001b[0;34m\u001b[0m\u001b[0;34m\u001b[0m\u001b[0m\n\u001b[1;32m     10\u001b[0m \u001b[0;34m\u001b[0m\u001b[0m\n\u001b[0;32m---> 11\u001b[0;31m \u001b[0;32mwith\u001b[0m \u001b[0mopen\u001b[0m\u001b[0;34m(\u001b[0m\u001b[0;34m'employees.json'\u001b[0m\u001b[0;34m)\u001b[0m \u001b[0;32mas\u001b[0m \u001b[0mfile\u001b[0m\u001b[0;34m:\u001b[0m\u001b[0;34m\u001b[0m\u001b[0;34m\u001b[0m\u001b[0m\n\u001b[0m\u001b[1;32m     12\u001b[0m     \u001b[0mdata\u001b[0m \u001b[0;34m=\u001b[0m \u001b[0mjson\u001b[0m\u001b[0;34m.\u001b[0m\u001b[0mload\u001b[0m\u001b[0;34m(\u001b[0m\u001b[0mfile\u001b[0m\u001b[0;34m)\u001b[0m\u001b[0;34m\u001b[0m\u001b[0;34m\u001b[0m\u001b[0m\n\u001b[1;32m     13\u001b[0m     \u001b[0memployees\u001b[0m \u001b[0;34m=\u001b[0m \u001b[0;34m[\u001b[0m\u001b[0;34m]\u001b[0m\u001b[0;34m\u001b[0m\u001b[0;34m\u001b[0m\u001b[0m\n",
            "\u001b[0;31mFileNotFoundError\u001b[0m: [Errno 2] No such file or directory: 'employees.json'"
          ]
        }
      ]
    },
    {
      "cell_type": "markdown",
      "source": [
        "Create a dictionary of any 7 Indian states and their capitals. Write this into a JSON file."
      ],
      "metadata": {
        "id": "-sYttCom271I"
      }
    },
    {
      "cell_type": "code",
      "source": [
        "import json\n",
        "\n",
        "indian_states = {\n",
        "    \"Andhra Pradesh\": \"Amaravati\",\n",
        "    \"Arunachal Pradesh\": \"Itanagar\",\n",
        "    \"Assam\": \"Dispur\",\n",
        "    \"Bihar\": \"Patna\",\n",
        "    \"Chhattisgarh\": \"Raipur\",\n",
        "    \"Goa\": \"Panaji\",\n",
        "    \"Gujarat\": \"Gandhinagar\"\n",
        "}\n",
        "\n",
        "with open(\"indian_states.json\", \"w\") as file:\n",
        "    json.dump(indian_states, file)\n"
      ],
      "metadata": {
        "id": "0u9yxGVX1sQm"
      },
      "execution_count": 15,
      "outputs": []
    },
    {
      "cell_type": "code",
      "source": [
        "{\n",
        "    \"Andhra Pradesh\": \"Amaravati\",\n",
        "    \"Arunachal Pradesh\": \"Itanagar\",\n",
        "    \"Assam\": \"Dispur\",\n",
        "    \"Bihar\": \"Patna\",\n",
        "    \"Chhattisgarh\": \"Raipur\",\n",
        "    \"Goa\": \"Panaji\",\n",
        "    \"Gujarat\": \"Gandhinagar\"\n",
        "}\n"
      ],
      "metadata": {
        "colab": {
          "base_uri": "https://localhost:8080/"
        },
        "id": "4rh1dEDU2_Bv",
        "outputId": "9a00b978-1564-42d9-f2ef-c18fbd1dc35d"
      },
      "execution_count": 16,
      "outputs": [
        {
          "output_type": "execute_result",
          "data": {
            "text/plain": [
              "{'Andhra Pradesh': 'Amaravati',\n",
              " 'Arunachal Pradesh': 'Itanagar',\n",
              " 'Assam': 'Dispur',\n",
              " 'Bihar': 'Patna',\n",
              " 'Chhattisgarh': 'Raipur',\n",
              " 'Goa': 'Panaji',\n",
              " 'Gujarat': 'Gandhinagar'}"
            ]
          },
          "metadata": {},
          "execution_count": 16
        }
      ]
    },
    {
      "cell_type": "markdown",
      "source": [
        "👉 1. Create a class named ‘Dog’. It should have a constructor which accepts its name, age and coat color. You must perform the following operations:\n",
        "\n",
        "🔴 a. It should have a function ‘description()’ which prints the name and age of the dog.\n",
        "🔴 b. It should have a function ‘get_info()’ which prints the coat color of the dog.\n",
        "🔴 c. Create child classes ‘JackRussellTerrier’ and ‘Bulldog’ which is inherited from the class ‘Dog’. It should have at least two methods of its own.\n",
        "🔴 d. Create objects and implement the above functionalities."
      ],
      "metadata": {
        "id": "r_pSSWgG3Vzf"
      }
    },
    {
      "cell_type": "code",
      "source": [
        "class Dog:\n",
        "    def __init__(self, name, age, coat_color):\n",
        "        self.name = name\n",
        "        self.age = age\n",
        "        self.coat_color = coat_color\n",
        "\n",
        "dog1 = Dog(\"Fido\", 3, \"brown\")\n",
        "dog2 = Dog(\"Buddy\", 5, \"black\")\n",
        "\n",
        "print(dog1.name) # Output: Fido\n",
        "print(dog2.age) # Output: 5\n",
        "print(dog1.coat_color) # Output: brown\n"
      ],
      "metadata": {
        "colab": {
          "base_uri": "https://localhost:8080/"
        },
        "id": "aVYEEbSd3BMG",
        "outputId": "62663a44-331e-4ee1-f136-53a853ae6918"
      },
      "execution_count": 17,
      "outputs": [
        {
          "output_type": "stream",
          "name": "stdout",
          "text": [
            "Fido\n",
            "5\n",
            "brown\n"
          ]
        }
      ]
    },
    {
      "cell_type": "code",
      "source": [
        "class Dog:\n",
        "    def __init__(self, name, age, coat_color):\n",
        "        self.name = name\n",
        "        self.age = age\n",
        "        self.coat_color = coat_color\n",
        "\n",
        "    def description(self):\n",
        "        print(f\"{self.name} is {self.age} years old.\")\n",
        "\n",
        "    def get_info(self):\n",
        "        print(f\"Coat color: {self.coat_color}\")\n",
        "\n",
        "class JackRussellTerrier(Dog):\n",
        "    def __init__(self, name, age, coat_color):\n",
        "        super().__init__(name, age, coat_color)\n",
        "\n",
        "    def bark(self):\n",
        "        print(\"Woof woof!\")\n",
        "\n",
        "    def energy_level(self):\n",
        "        print(\"High energy level\")\n",
        "\n",
        "class Bulldog(Dog):\n",
        "    def __init__(self, name, age, coat_color):\n",
        "        super().__init__(name, age, coat_color)\n",
        "\n",
        "    def bark(self):\n",
        "        print(\"Grrrrrr!\")\n",
        "\n",
        "    def lazy(self):\n",
        "        print(\"Lazy\")\n",
        "\n",
        "dog1 = Dog(\"Fido\", 3, \"brown\")\n",
        "dog1.description() # Output: Fido is 3 years old.\n",
        "dog1.get_info() # Output: Coat color: brown\n",
        "\n",
        "dog2 = JackRussellTerrier(\"Buddy\", 5, \"black\")\n",
        "dog2.description() # Output: Buddy is 5 years old.\n",
        "dog2.get_info() # Output: Coat color: black\n",
        "dog2.bark() # Output: Woof woof!\n",
        "dog2.energy_level() # Output: High energy level\n",
        "\n",
        "dog3 = Bulldog(\"Max\", 7, \"white\")\n",
        "dog3.description() # Output: Max is 7 years old.\n",
        "dog3.get_info() # Output: Coat color: white\n",
        "dog3.bark() # Output: Grrrrrr!\n",
        "dog3.lazy() # Output: Lazy\n"
      ],
      "metadata": {
        "colab": {
          "base_uri": "https://localhost:8080/"
        },
        "id": "PUeg5l2Q3Z_m",
        "outputId": "b79a9b83-7dcf-4d2a-f0bb-9a096051a3e8"
      },
      "execution_count": 18,
      "outputs": [
        {
          "output_type": "stream",
          "name": "stdout",
          "text": [
            "Fido is 3 years old.\n",
            "Coat color: brown\n",
            "Buddy is 5 years old.\n",
            "Coat color: black\n",
            "Woof woof!\n",
            "High energy level\n",
            "Max is 7 years old.\n",
            "Coat color: white\n",
            "Grrrrrr!\n",
            "Lazy\n"
          ]
        }
      ]
    },
    {
      "cell_type": "code",
      "source": [],
      "metadata": {
        "id": "fhSZZrOL3il2"
      },
      "execution_count": null,
      "outputs": []
    }
  ]
}